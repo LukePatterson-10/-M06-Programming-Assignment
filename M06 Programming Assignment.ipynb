{
 "cells": [
  {
   "cell_type": "code",
   "execution_count": 2,
   "id": "bdacb982",
   "metadata": {},
   "outputs": [],
   "source": [
    "import datetime\n",
    "\n",
    "# 13.1\n",
    "\n",
    "date_now = datetime.datetime.now().strftime('%Y-%m-%d')\n",
    "with open('today.txt', 'w') as file:\n",
    "    file.write(date_now)"
   ]
  },
  {
   "cell_type": "code",
   "execution_count": 3,
   "id": "3ccee091",
   "metadata": {},
   "outputs": [],
   "source": [
    "# 13.2\n",
    "\n",
    "with open('today.txt', 'r') as file:\n",
    "    today_string = file.read()"
   ]
  },
  {
   "cell_type": "code",
   "execution_count": 4,
   "id": "73a24390",
   "metadata": {},
   "outputs": [
    {
     "name": "stdout",
     "output_type": "stream",
     "text": [
      "2024-04-23 00:00:00\n"
     ]
    }
   ],
   "source": [
    "# 13.3\n",
    " \n",
    "parsed_date = datetime.datetime.strptime(today_string, '%Y-%m-%d')\n",
    "print(parsed_date)"
   ]
  },
  {
   "cell_type": "code",
   "execution_count": 5,
   "id": "f52a2d37",
   "metadata": {},
   "outputs": [],
   "source": [
    "# 15.1\n",
    "\n",
    "import multiprocessing\n",
    "import random\n",
    "import time\n",
    "import datetime\n",
    "\n",
    "def print_date_now():\n",
    "    sleep_time = random.random()\n",
    "    time.sleep(sleep_time)\n",
    "    \n",
    "    current_time = datetime.datetime.now()\n",
    "    print(\"Process {} - Current time: {}\".format(multiprocessing.current_process().name, current_time))\n",
    "\n",
    "if __name__ == \"__main__\":\n",
    "    processes = []\n",
    "    for i in range(3):\n",
    "        process = multiprocessing.Process(target=print_date_now, name=f\"Process-{i+1}\")\n",
    "        processes.append(process)\n",
    "        process.start()\n",
    "\n",
    "    for process in processes:\n",
    "        process.join()"
   ]
  }
 ],
 "metadata": {
  "kernelspec": {
   "display_name": "Python 3 (ipykernel)",
   "language": "python",
   "name": "python3"
  },
  "language_info": {
   "codemirror_mode": {
    "name": "ipython",
    "version": 3
   },
   "file_extension": ".py",
   "mimetype": "text/x-python",
   "name": "python",
   "nbconvert_exporter": "python",
   "pygments_lexer": "ipython3",
   "version": "3.11.7"
  }
 },
 "nbformat": 4,
 "nbformat_minor": 5
}
